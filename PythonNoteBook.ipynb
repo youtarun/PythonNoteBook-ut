{
 "cells": [
  {
   "cell_type": "markdown",
   "id": "e4081349",
   "metadata": {},
   "source": [
    "# PYTHON PROGRAMMING CODES "
   ]
  },
  {
   "cell_type": "raw",
   "id": "b0bf7771",
   "metadata": {},
   "source": [
    "Code by Unukuru Tarun Kumar (Source : Telusko-Youtube )"
   ]
  },
  {
   "cell_type": "code",
   "execution_count": 3,
   "id": "1cfebb9a",
   "metadata": {
    "scrolled": false
   },
   "outputs": [
    {
     "name": "stdout",
     "output_type": "stream",
     "text": [
      "Om sai Ram\n"
     ]
    }
   ],
   "source": [
    "print('Om sai Ram')"
   ]
  },
  {
   "cell_type": "code",
   "execution_count": 1,
   "id": "2b92516d",
   "metadata": {
    "scrolled": true
   },
   "outputs": [
    {
     "name": "stdout",
     "output_type": "stream",
     "text": [
      "Enter the 1st number : 45\n",
      "Enter the 2nd number : 5\n",
      "Sum of the number is : 50\n"
     ]
    }
   ],
   "source": [
    "#user input in python\n",
    "\n",
    "x=input(\"Enter the 1st number : \")\n",
    "a=int(x)\n",
    "y=input(\"Enter the 2nd number : \")\n",
    "b=int(y)\n",
    "\n",
    "z=a+b\n",
    "print(\"Sum of the number is :\",z)\n",
    "#print(z)"
   ]
  },
  {
   "cell_type": "code",
   "execution_count": 2,
   "id": "e21b1351",
   "metadata": {},
   "outputs": [
    {
     "name": "stdout",
     "output_type": "stream",
     "text": [
      "Enter 1st value : 50\n",
      "Enter 2nd value : 40\n",
      "90\n"
     ]
    }
   ],
   "source": [
    "x=int(input(\"Enter 1st value : \"))\n",
    "y=int(input(\"Enter 2nd value : \"))\n",
    "\n",
    "z=x+y\n",
    "print(z)\n",
    "\n"
   ]
  },
  {
   "cell_type": "code",
   "execution_count": 4,
   "id": "8f4bbf6e",
   "metadata": {},
   "outputs": [
    {
     "name": "stdout",
     "output_type": "stream",
     "text": [
      "Enter the char : tarun\n",
      "t\n"
     ]
    }
   ],
   "source": [
    "#printing character:\n",
    "ch=input(\"Enter the char : \")[0]\n",
    "print(ch)"
   ]
  },
  {
   "cell_type": "code",
   "execution_count": 2,
   "id": "3e077a15",
   "metadata": {},
   "outputs": [
    {
     "name": "stdout",
     "output_type": "stream",
     "text": [
      "Enter the expression4-7+7\n",
      "4\n"
     ]
    }
   ],
   "source": [
    "#printing result/Evaluation\n",
    "result=eval(input(\"Enter the expression\"))\n",
    "print(result)"
   ]
  },
  {
   "cell_type": "code",
   "execution_count": 6,
   "id": "50b1c206",
   "metadata": {},
   "outputs": [
    {
     "name": "stdout",
     "output_type": "stream",
     "text": [
      "Odd\n",
      "Bye\n"
     ]
    }
   ],
   "source": [
    "#If elif else statement :\n",
    "x=3\n",
    "r=x%2\n",
    "if r==0:\n",
    "    print(\"Even\")\n",
    "    if x>5:\n",
    "        print(\"Great\")\n",
    "    else:\n",
    "        print(\"Not great\")\n",
    "else:\n",
    "    print(\"Odd\")\n",
    "\n",
    "print(\"Bye\")"
   ]
  },
  {
   "cell_type": "markdown",
   "id": "bca5e3a3",
   "metadata": {},
   "source": [
    "Note : If in side the if is called Nested if."
   ]
  },
  {
   "cell_type": "code",
   "execution_count": 9,
   "id": "09719147",
   "metadata": {},
   "outputs": [
    {
     "name": "stdout",
     "output_type": "stream",
     "text": [
      "Three\n"
     ]
    }
   ],
   "source": [
    "x=3\n",
    "if(x==1):\n",
    "    print(\"One\")\n",
    "elif(x==2):\n",
    "    print(\"Two\")\n",
    "elif(x==3):\n",
    "    print(\"Three\")\n",
    "else:\n",
    "    print(\"Wrong input\")"
   ]
  },
  {
   "cell_type": "code",
   "execution_count": 10,
   "id": "a8a7dd64",
   "metadata": {},
   "outputs": [
    {
     "name": "stdout",
     "output_type": "stream",
     "text": [
      "Tarun\n",
      "Tarun\n",
      "Tarun\n",
      "Tarun\n",
      "Tarun\n"
     ]
    }
   ],
   "source": [
    "i=1\n",
    "while i<=5:\n",
    "    print(\"Tarun\")\n",
    "    i=i+1\n",
    "    "
   ]
  },
  {
   "cell_type": "code",
   "execution_count": 11,
   "id": "1615268e",
   "metadata": {},
   "outputs": [
    {
     "name": "stdout",
     "output_type": "stream",
     "text": [
      "T\n",
      "A\n",
      "R\n",
      "U\n",
      "N\n"
     ]
    }
   ],
   "source": [
    "x=\"TARUN\"\n",
    "for i in x:\n",
    "    print(i)"
   ]
  },
  {
   "cell_type": "code",
   "execution_count": 12,
   "id": "d0de1639",
   "metadata": {},
   "outputs": [
    {
     "name": "stdout",
     "output_type": "stream",
     "text": [
      "2\n",
      "6\n",
      "Tarun\n"
     ]
    }
   ],
   "source": [
    "for i in [2,6,'Tarun']:\n",
    "    print(i)"
   ]
  },
  {
   "cell_type": "code",
   "execution_count": 13,
   "id": "9209e6e5",
   "metadata": {},
   "outputs": [
    {
     "name": "stdout",
     "output_type": "stream",
     "text": [
      "11\n",
      "12\n",
      "13\n",
      "14\n",
      "15\n",
      "16\n",
      "17\n",
      "18\n",
      "19\n",
      "20\n"
     ]
    }
   ],
   "source": [
    "for i in range(11,21,1):\n",
    "    print(i)\n",
    "\n"
   ]
  },
  {
   "cell_type": "code",
   "execution_count": 14,
   "id": "59df9d23",
   "metadata": {},
   "outputs": [
    {
     "name": "stdout",
     "output_type": "stream",
     "text": [
      "11\n",
      "16\n"
     ]
    }
   ],
   "source": [
    "for i in range(11,21,5):\n",
    "    print(i)"
   ]
  },
  {
   "cell_type": "code",
   "execution_count": 15,
   "id": "9fbbd559",
   "metadata": {},
   "outputs": [
    {
     "name": "stdout",
     "output_type": "stream",
     "text": [
      "20\n",
      "19\n",
      "18\n",
      "17\n",
      "16\n",
      "15\n",
      "14\n",
      "13\n",
      "12\n"
     ]
    }
   ],
   "source": [
    "for i in range (20,11,-1):\n",
    "    print(i)"
   ]
  },
  {
   "cell_type": "code",
   "execution_count": 16,
   "id": "de968e31",
   "metadata": {},
   "outputs": [
    {
     "name": "stdout",
     "output_type": "stream",
     "text": [
      "1\n",
      "2\n",
      "3\n",
      "4\n",
      "6\n",
      "7\n",
      "8\n",
      "9\n",
      "11\n",
      "12\n",
      "13\n",
      "14\n",
      "16\n",
      "17\n",
      "18\n",
      "19\n"
     ]
    }
   ],
   "source": [
    "#List of numbers not divisiable by 5 :\n",
    "for i in range(1,21):\n",
    "    if(i%5!=0):\n",
    "        print(i)"
   ]
  },
  {
   "cell_type": "code",
   "execution_count": 17,
   "id": "bd43130f",
   "metadata": {},
   "outputs": [
    {
     "name": "stdout",
     "output_type": "stream",
     "text": [
      "How many candies you want ? : 15\n",
      "Candy\n",
      "Candy\n",
      "Candy\n",
      "Candy\n",
      "Candy\n",
      "Out of stock\n",
      "Bye\n"
     ]
    }
   ],
   "source": [
    "# Break-Continue-Pass :\n",
    "av = 5\n",
    "x = int(input(\"How many candies you want ? : \"))\n",
    "\n",
    "i = 1\n",
    "while i <= x:\n",
    "    if i > av:\n",
    "        print(\"Out of stock\")\n",
    "        break\n",
    "    print(\"Candy\")\n",
    "    i += 1\n",
    "\n",
    "print(\"Bye\")\n"
   ]
  },
  {
   "cell_type": "code",
   "execution_count": 2,
   "id": "6af6e4ae",
   "metadata": {},
   "outputs": [
    {
     "name": "stdout",
     "output_type": "stream",
     "text": [
      "1\n",
      "2\n",
      "3\n",
      "4\n",
      "5\n",
      "6\n",
      "7\n",
      "8\n",
      "9\n",
      "10\n",
      "11\n",
      "12\n",
      "13\n",
      "14\n",
      "16\n",
      "17\n",
      "18\n",
      "19\n",
      "20\n",
      "21\n",
      "22\n",
      "23\n",
      "24\n",
      "Bye\n"
     ]
    }
   ],
   "source": [
    "for i in range(1, 25):\n",
    "    if i % 3 == 0 and i % 5 == 0:\n",
    "        continue\n",
    "    print(i)\n",
    "\n",
    "print(\"Bye\")\n"
   ]
  },
  {
   "cell_type": "code",
   "execution_count": 3,
   "id": "540cd420",
   "metadata": {},
   "outputs": [
    {
     "name": "stdout",
     "output_type": "stream",
     "text": [
      "1\n",
      "2\n",
      "4\n",
      "7\n",
      "8\n",
      "11\n",
      "13\n",
      "14\n",
      "16\n",
      "17\n",
      "19\n",
      "Bye\n"
     ]
    }
   ],
   "source": [
    "for i in range(1, 20):\n",
    "    if i % 3 == 0 or i % 5 == 0:\n",
    "        continue\n",
    "    print(i)\n",
    "\n",
    "print(\"Bye\")\n"
   ]
  },
  {
   "cell_type": "code",
   "execution_count": 3,
   "id": "087618a6",
   "metadata": {},
   "outputs": [
    {
     "name": "stdout",
     "output_type": "stream",
     "text": [
      "Hello 0\n",
      "Hello 1\n",
      "Hello 2\n"
     ]
    }
   ],
   "source": [
    "for i in range(5):\n",
    "    if i == 3:\n",
    "        break\n",
    "    print(\"Hello\", i)\n",
    "    if i == 4:\n",
    "        pass\n",
    "\n",
    "\n",
    "    def fun():\n",
    "        pass\n",
    "\n",
    "\n",
    "    class Human:\n",
    "        pass\n"
   ]
  },
  {
   "cell_type": "code",
   "execution_count": 4,
   "id": "0bdc9537",
   "metadata": {},
   "outputs": [
    {
     "name": "stdout",
     "output_type": "stream",
     "text": [
      "####\n",
      "####\n",
      "####\n",
      "####\n"
     ]
    }
   ],
   "source": [
    "for i in range(4):\n",
    "\tfor j in range(4):\n",
    "\t\tprint(\"#\",end=\"\")\n",
    "\tprint()"
   ]
  },
  {
   "cell_type": "code",
   "execution_count": 7,
   "id": "053e65aa",
   "metadata": {},
   "outputs": [
    {
     "name": "stdout",
     "output_type": "stream",
     "text": [
      "#\n",
      "##\n",
      "###\n",
      "####\n"
     ]
    }
   ],
   "source": [
    "for i in range(4):\n",
    "\tfor j in range(i+1):\n",
    "\t\tprint(\"#\",end=\"\")\n",
    "\tprint()"
   ]
  },
  {
   "cell_type": "code",
   "execution_count": 5,
   "id": "9be63391",
   "metadata": {},
   "outputs": [
    {
     "name": "stdout",
     "output_type": "stream",
     "text": [
      "####\n",
      "###\n",
      "##\n",
      "#\n"
     ]
    }
   ],
   "source": [
    "for i in range(4):\n",
    "\tfor j in range(4-i):\n",
    "\t\tprint(\"#\",end=\"\")\n",
    "\tprint()"
   ]
  },
  {
   "cell_type": "code",
   "execution_count": 8,
   "id": "b2e801a9",
   "metadata": {},
   "outputs": [
    {
     "name": "stdout",
     "output_type": "stream",
     "text": [
      "15\n"
     ]
    }
   ],
   "source": [
    "nums = [12, 15, 18, 21, 26]\n",
    "\n",
    "for i in nums:\n",
    "\n",
    "    if i % 5 == 0:\n",
    "        print(i)\n"
   ]
  },
  {
   "cell_type": "code",
   "execution_count": 9,
   "id": "6e099e05",
   "metadata": {},
   "outputs": [
    {
     "name": "stdout",
     "output_type": "stream",
     "text": [
      "15\n",
      "20\n",
      "25\n"
     ]
    }
   ],
   "source": [
    "nums = [12, 15, 18, 21,20, 25]\n",
    "\n",
    "for i in nums:\n",
    "\n",
    "    if i % 5 == 0:\n",
    "        print(i)\n"
   ]
  },
  {
   "cell_type": "code",
   "execution_count": 11,
   "id": "44e6df32",
   "metadata": {},
   "outputs": [
    {
     "name": "stdout",
     "output_type": "stream",
     "text": [
      "15\n"
     ]
    }
   ],
   "source": [
    "nums = [12, 15, 18, 21, 20, 25]\n",
    "\n",
    "for i in nums:\n",
    "\n",
    "    if i % 5 == 0:\n",
    "        print(i)\n",
    "        break\n"
   ]
  },
  {
   "cell_type": "code",
   "execution_count": 12,
   "id": "3265264c",
   "metadata": {},
   "outputs": [
    {
     "name": "stdout",
     "output_type": "stream",
     "text": [
      "Not found the value divisible by 5.\n",
      "Not found the value divisible by 5.\n",
      "Not found the value divisible by 5.\n",
      "Not found the value divisible by 5.\n",
      "Not found the value divisible by 5.\n",
      "Not found the value divisible by 5.\n"
     ]
    }
   ],
   "source": [
    "nums = [12, 16, 18, 21, 26, 27]\n",
    "\n",
    "for i in nums:\n",
    "\n",
    "    if i % 5 == 0:\n",
    "        print(i)\n",
    "        break\n",
    "    else:\n",
    "        print(\"Not found the value divisible by 5.\")\n"
   ]
  },
  {
   "cell_type": "code",
   "execution_count": 13,
   "id": "a3b2d904",
   "metadata": {},
   "outputs": [
    {
     "name": "stdout",
     "output_type": "stream",
     "text": [
      "Not found the value divisible by 5.\n"
     ]
    }
   ],
   "source": [
    "nums = [12, 16, 18, 21, 26, 27]\n",
    "\n",
    "for i in nums:\n",
    "\n",
    "    if i % 5 == 0:\n",
    "        print(i)\n",
    "        break\n",
    "else:\n",
    "        print(\"Not found the value divisible by 5.\")\n"
   ]
  },
  {
   "cell_type": "code",
   "execution_count": 14,
   "id": "82b6de3c",
   "metadata": {},
   "outputs": [
    {
     "name": "stdout",
     "output_type": "stream",
     "text": [
      "10\n",
      "Not found the value divisible by 5.\n"
     ]
    }
   ],
   "source": [
    "nums = [10,12, 16, 18, 21, 26, 27]\n",
    "\n",
    "for i in nums:\n",
    "\n",
    "    if i % 5 == 0:\n",
    "        print(i)\n",
    "        \n",
    "else:\n",
    "        print(\"Not found the value divisible by 5.\")\n"
   ]
  },
  {
   "cell_type": "code",
   "execution_count": 15,
   "id": "98618433",
   "metadata": {},
   "outputs": [
    {
     "name": "stdout",
     "output_type": "stream",
     "text": [
      "Prime number\n"
     ]
    }
   ],
   "source": [
    "#prime number :\n",
    "\n",
    "num=7\n",
    "for i in range(2,num):\n",
    "    if num%i==0:\n",
    "        print(\"Not prime number\")\n",
    "else:\n",
    "    print(\"Prime number\")"
   ]
  },
  {
   "cell_type": "code",
   "execution_count": 16,
   "id": "694368d6",
   "metadata": {},
   "outputs": [
    {
     "name": "stdout",
     "output_type": "stream",
     "text": [
      "Enter the number : 7\n",
      "Prime number\n"
     ]
    }
   ],
   "source": [
    "#prime number :\n",
    "\n",
    "num=int(input(\"Enter the number : \"))\n",
    "\n",
    "for i in range(2,num):\n",
    "    if num%i==0:\n",
    "        print(\"Not prime number\")\n",
    "        break\n",
    "else:\n",
    "    print(\"Prime number\")"
   ]
  },
  {
   "cell_type": "code",
   "execution_count": 19,
   "id": "1799a52f",
   "metadata": {},
   "outputs": [
    {
     "name": "stdout",
     "output_type": "stream",
     "text": [
      "Enter the number : 3\n",
      "Prime number\n"
     ]
    }
   ],
   "source": [
    "#prime number :\n",
    "\n",
    "num=int(input(\"Enter the number : \"))\n",
    "\n",
    "for i in range(2,num):\n",
    "    if num%i==0:\n",
    "        print(\"Not prime number\")\n",
    "        break\n",
    "else:\n",
    "    print(\"Prime number\")"
   ]
  },
  {
   "cell_type": "markdown",
   "id": "886a0fb7",
   "metadata": {},
   "source": [
    "The above programs are till video-25."
   ]
  },
  {
   "cell_type": "markdown",
   "id": "401a7c68",
   "metadata": {},
   "source": [
    "#VIDEO-19 : PRINT FORMATTING WITH STRINGS :- "
   ]
  },
  {
   "cell_type": "code",
   "execution_count": 20,
   "id": "750e2ccc",
   "metadata": {},
   "outputs": [
    {
     "name": "stdout",
     "output_type": "stream",
     "text": [
      "This is a string INSERTED\n"
     ]
    }
   ],
   "source": [
    "print('This is a string{}'.format(' INSERTED'))"
   ]
  },
  {
   "cell_type": "code",
   "execution_count": 21,
   "id": "821f2195",
   "metadata": {},
   "outputs": [
    {
     "name": "stdout",
     "output_type": "stream",
     "text": [
      "The fox fox fox\n"
     ]
    }
   ],
   "source": [
    "print('The{0}{0}{0}'.format(' fox','brown','quick'))"
   ]
  },
  {
   "cell_type": "code",
   "execution_count": 22,
   "id": "8515c52e",
   "metadata": {},
   "outputs": [
    {
     "name": "stdout",
     "output_type": "stream",
     "text": [
      "The foxbrownquick\n"
     ]
    }
   ],
   "source": [
    "print('The{0}{1}{2}'.format(' fox','brown','quick'))"
   ]
  },
  {
   "cell_type": "code",
   "execution_count": 24,
   "id": "ce2fcda9",
   "metadata": {},
   "outputs": [
    {
     "name": "stdout",
     "output_type": "stream",
     "text": [
      "The quick brown fox\n"
     ]
    }
   ],
   "source": [
    "print('The{q}{b}{f}'.format(f=' fox',b=' brown',q=' quick'))"
   ]
  },
  {
   "cell_type": "code",
   "execution_count": 51,
   "id": "19946dfc",
   "metadata": {},
   "outputs": [
    {
     "data": {
      "text/plain": [
       "0.1287001287001287"
      ]
     },
     "execution_count": 51,
     "metadata": {},
     "output_type": "execute_result"
    }
   ],
   "source": [
    "result=100/777\n",
    "result"
   ]
  },
  {
   "cell_type": "code",
   "execution_count": 52,
   "id": "972309c0",
   "metadata": {},
   "outputs": [
    {
     "name": "stdout",
     "output_type": "stream",
     "text": [
      "The result was 0.1287001287001287\n"
     ]
    }
   ],
   "source": [
    "print(\"The result was {r}\".format(r=result))\n"
   ]
  },
  {
   "cell_type": "code",
   "execution_count": 53,
   "id": "02f0226c",
   "metadata": {},
   "outputs": [
    {
     "name": "stdout",
     "output_type": "stream",
     "text": [
      "The result was 0.129\n"
     ]
    }
   ],
   "source": [
    "print(\"The result was {r:1.3f}\".format(r=result))"
   ]
  },
  {
   "cell_type": "code",
   "execution_count": 54,
   "id": "c27893b4",
   "metadata": {},
   "outputs": [
    {
     "name": "stdout",
     "output_type": "stream",
     "text": [
      "The result was 0.12870\n"
     ]
    }
   ],
   "source": [
    "print(\"The result was {r:1.5f}\".format(r=result))"
   ]
  },
  {
   "cell_type": "code",
   "execution_count": 55,
   "id": "2665ea12",
   "metadata": {},
   "outputs": [
    {
     "name": "stdout",
     "output_type": "stream",
     "text": [
      "The result was 104.12\n"
     ]
    }
   ],
   "source": [
    "result=104.12345\n",
    "print(\"The result was {r:1.2f}\".format(r=result))"
   ]
  },
  {
   "cell_type": "code",
   "execution_count": 57,
   "id": "74bf76ea",
   "metadata": {},
   "outputs": [
    {
     "name": "stdout",
     "output_type": "stream",
     "text": [
      "Python rules!\n"
     ]
    }
   ],
   "source": [
    "#quiz\n",
    "print(\"Python {}\".format(\"rules!\"))"
   ]
  },
  {
   "cell_type": "code",
   "execution_count": 61,
   "id": "8c90d2d7",
   "metadata": {},
   "outputs": [
    {
     "name": "stdout",
     "output_type": "stream",
     "text": [
      "{'Monday': 'Class', 'Sunday': 'Holiday'}\n"
     ]
    }
   ],
   "source": [
    "T={'Monday':'Class','Sunday':'Holiday'}\n",
    "print(T)"
   ]
  },
  {
   "cell_type": "markdown",
   "id": "85b02502",
   "metadata": {},
   "source": [
    "# Next Day ===>>>"
   ]
  },
  {
   "cell_type": "code",
   "execution_count": 2,
   "id": "4c985bb5",
   "metadata": {},
   "outputs": [
    {
     "name": "stdout",
     "output_type": "stream",
     "text": [
      "5.0\n",
      "3\n"
     ]
    }
   ],
   "source": [
    "import math\n",
    "x=math.sqrt(25)\n",
    "print(x)\n",
    "\n",
    "y=math.sqrt(15)\n",
    "#print(type(int(y)))\n",
    "print(int(y))"
   ]
  },
  {
   "cell_type": "code",
   "execution_count": 9,
   "id": "4bffdd92",
   "metadata": {},
   "outputs": [
    {
     "name": "stdout",
     "output_type": "stream",
     "text": [
      "10\n"
     ]
    }
   ],
   "source": [
    "import math as m\n",
    "x=m.sqrt(100)\n",
    "print(int(x))"
   ]
  },
  {
   "cell_type": "code",
   "execution_count": 10,
   "id": "2b25b4c3",
   "metadata": {},
   "outputs": [
    {
     "name": "stdout",
     "output_type": "stream",
     "text": [
      "Enter 1st number : 45\n",
      "Enter 1st number : 6\n",
      "51\n"
     ]
    }
   ],
   "source": [
    "# User input in python :\n",
    "\n",
    "x = input(\"Enter 1st number : \")\n",
    "a = int(x)\n",
    "\n",
    "y = input(\"Enter 1st number : \")\n",
    "b = int(y)\n",
    "\n",
    "z = a + b\n",
    "print(z)\n"
   ]
  },
  {
   "cell_type": "code",
   "execution_count": 15,
   "id": "6d188b06",
   "metadata": {},
   "outputs": [
    {
     "name": "stdout",
     "output_type": "stream",
     "text": [
      "Enter 1st number : 2\n",
      "Enter 2st number : 8\n",
      "10\n"
     ]
    }
   ],
   "source": [
    "# (Shortcut) User input in python :\n",
    "\n",
    "x = int(input(\"Enter 1st number : \"))\n",
    "#a = int(x)\n",
    "\n",
    "y = int(input(\"Enter 2st number : \"))\n",
    "#b = int(y)\n",
    "\n",
    "z = x + y\n",
    "print(z)"
   ]
  },
  {
   "cell_type": "code",
   "execution_count": 16,
   "id": "e11ea361",
   "metadata": {},
   "outputs": [
    {
     "name": "stdout",
     "output_type": "stream",
     "text": [
      "Enter the expression : 78-8+10\n",
      "80\n"
     ]
    }
   ],
   "source": [
    "result=eval(input(\"Enter the expression : \"))\n",
    "print(result)"
   ]
  },
  {
   "cell_type": "markdown",
   "id": "bfe76f5e",
   "metadata": {},
   "source": [
    "# Next day ===>>>"
   ]
  },
  {
   "cell_type": "code",
   "execution_count": 1,
   "id": "3b4ac5c5",
   "metadata": {},
   "outputs": [
    {
     "name": "stdout",
     "output_type": "stream",
     "text": [
      "Value 1: 78\n",
      "Value 2: 22\n",
      "100\n"
     ]
    }
   ],
   "source": [
    "x = input(\"Value 1: \")\n",
    "y = input(\"Value 2: \")\n",
    "\n",
    "a = int(x)\n",
    "b = int(y)\n",
    "c = a + b\n",
    "print(c)\n"
   ]
  },
  {
   "cell_type": "code",
   "execution_count": 2,
   "id": "411a9e08",
   "metadata": {},
   "outputs": [
    {
     "name": "stdout",
     "output_type": "stream",
     "text": [
      "Enter the base value  : 4\n",
      "Enter the power value : 5\n",
      "1024.0\n"
     ]
    }
   ],
   "source": [
    "from math import sqrt,pow\n",
    "\n",
    "m=int(input(\"Enter the base value  : \"))\n",
    "n=int(input(\"Enter the power value : \"))\n",
    "x=pow(m,n)\n",
    "\n",
    "print(x)"
   ]
  },
  {
   "cell_type": "code",
   "execution_count": 3,
   "id": "786a2515",
   "metadata": {},
   "outputs": [
    {
     "name": "stdout",
     "output_type": "stream",
     "text": [
      "Enter an expression : 78-8+30\n",
      "100\n"
     ]
    }
   ],
   "source": [
    "result=eval(input(\"Enter an expression : \"))\n",
    "print(result)"
   ]
  },
  {
   "cell_type": "code",
   "execution_count": 5,
   "id": "3906f00e",
   "metadata": {},
   "outputs": [
    {
     "name": "stdout",
     "output_type": "stream",
     "text": [
      "Enter a number : 17\n",
      "The number is Odd\n"
     ]
    }
   ],
   "source": [
    "#if elif else statement :\n",
    "\n",
    "x=int(input(\"Enter a number : \"))\n",
    "r=x%2\n",
    "\n",
    "if r==0:\n",
    "    print(\"The number is Even\")\n",
    "    if x>5:\n",
    "        print(\"Great\")\n",
    "    else:\n",
    "        print(\"Not so great\")\n",
    "else:\n",
    "    print(\"The number is Odd\")\n",
    "    #print(\"Code completed.\")\n",
    "   # print(Bye)"
   ]
  },
  {
   "cell_type": "code",
   "execution_count": 6,
   "id": "4c3d671b",
   "metadata": {},
   "outputs": [
    {
     "name": "stdout",
     "output_type": "stream",
     "text": [
      "Enter the n value : 4\n",
      "1 Tarun\n",
      "2 Tarun\n",
      "3 Tarun\n",
      "4 Tarun\n"
     ]
    }
   ],
   "source": [
    "# while loop :\n",
    "\n",
    "n = int(input(\"Enter the n value : \"))\n",
    "i = 1\n",
    "while i <= n:\n",
    "    print(i, \"Tarun\")\n",
    "    i = i + 1\n"
   ]
  },
  {
   "cell_type": "code",
   "execution_count": 7,
   "id": "f808c633",
   "metadata": {},
   "outputs": [
    {
     "name": "stdout",
     "output_type": "stream",
     "text": [
      "2\n",
      "6\n",
      "Tarun\n"
     ]
    }
   ],
   "source": [
    "for i in [2,6,'Tarun']:\n",
    "    print(i)"
   ]
  },
  {
   "cell_type": "code",
   "execution_count": 10,
   "id": "db162a6f",
   "metadata": {},
   "outputs": [
    {
     "name": "stdout",
     "output_type": "stream",
     "text": [
      "Enter the n value : 5\n",
      "0\n",
      "1\n",
      "2\n",
      "3\n",
      "4\n"
     ]
    }
   ],
   "source": [
    "n=int(input(\"Enter the n value : \"))\n",
    "for i in range(n):\n",
    "    print(i)"
   ]
  },
  {
   "cell_type": "code",
   "execution_count": 11,
   "id": "b3649d61",
   "metadata": {},
   "outputs": [
    {
     "name": "stdout",
     "output_type": "stream",
     "text": [
      "11\n",
      "13\n",
      "15\n",
      "17\n",
      "19\n"
     ]
    }
   ],
   "source": [
    "for i in range(11,21,2):\n",
    "    print(i)"
   ]
  },
  {
   "cell_type": "code",
   "execution_count": 13,
   "id": "820e1780",
   "metadata": {},
   "outputs": [
    {
     "name": "stdout",
     "output_type": "stream",
     "text": [
      "Tarun Rocks Rocks Rocks Rocks\n",
      "Tarun Rocks Rocks Rocks Rocks\n",
      "Tarun Rocks Rocks Rocks Rocks\n",
      "Tarun Rocks Rocks Rocks Rocks\n",
      "Tarun Rocks Rocks Rocks Rocks\n"
     ]
    }
   ],
   "source": [
    "i=1\n",
    "while i<=5:\n",
    "    print(\"Tarun\",end=\"\")\n",
    "\n",
    "    j=1\n",
    "    while j<=4:\n",
    "        print(\" Rocks\",end=\"\")\n",
    "        j=j+1\n",
    "\n",
    "    i=i+1\n",
    "    print()"
   ]
  },
  {
   "cell_type": "code",
   "execution_count": 14,
   "id": "91fc8e1d",
   "metadata": {},
   "outputs": [
    {
     "name": "stdout",
     "output_type": "stream",
     "text": [
      "2 x  1 = 2\n",
      "2 x  2 = 4\n",
      "2 x  3 = 6\n",
      "2 x  4 = 8\n",
      "2 x  5 = 10\n",
      "2 x  6 = 12\n",
      "2 x  7 = 14\n",
      "2 x  8 = 16\n",
      "2 x  9 = 18\n",
      "2 x  10 = 20\n"
     ]
    }
   ],
   "source": [
    "#Print a Table :\n",
    "\n",
    "x=0\n",
    "\n",
    "for i in range(2,22,2):\n",
    "    x=x+1\n",
    "    print(\"2 x \",x,\"=\",i)\n"
   ]
  },
  {
   "cell_type": "code",
   "execution_count": 15,
   "id": "7c77e9ca",
   "metadata": {},
   "outputs": [
    {
     "name": "stdout",
     "output_type": "stream",
     "text": [
      "Enter m value : 100\n",
      "Enter n value : 95\n",
      "100\n",
      "99\n",
      "98\n",
      "97\n",
      "96\n"
     ]
    }
   ],
   "source": [
    "#printing numbers reverse from m to n.\n",
    "m=int(input(\"Enter m value : \"))\n",
    "n=int(input(\"Enter n value : \"))\n",
    "\n",
    "for i in range(m,n,-1):\n",
    "    print(i)"
   ]
  },
  {
   "cell_type": "markdown",
   "id": "7392f759",
   "metadata": {},
   "source": [
    "# Next Day ===>>> "
   ]
  },
  {
   "cell_type": "code",
   "execution_count": 1,
   "id": "4bab91ad",
   "metadata": {},
   "outputs": [
    {
     "name": "stdout",
     "output_type": "stream",
     "text": [
      "Enter a number : 3\n",
      "Three\n"
     ]
    }
   ],
   "source": [
    "#nested if\n",
    "\n",
    "x=int(input(\"Enter a number : \"))\n",
    "if(x==1):\n",
    "    print(\"one\")\n",
    "elif(x==2):\n",
    "    print(\"Two\")\n",
    "elif(x==3):\n",
    "    print(\"Three\")\n",
    "else:\n",
    "    print(\"Invaid Input\")"
   ]
  },
  {
   "cell_type": "code",
   "execution_count": 2,
   "id": "99df907c",
   "metadata": {},
   "outputs": [
    {
     "name": "stdout",
     "output_type": "stream",
     "text": [
      "####\n",
      "####\n",
      "####\n",
      "####\n"
     ]
    }
   ],
   "source": [
    "#printing patterns :\n",
    "\n",
    "for i in range(4):\n",
    "    for j in range(4):\n",
    "        print(\"#\",end=\"\")\n",
    "    print()"
   ]
  },
  {
   "cell_type": "code",
   "execution_count": 3,
   "id": "153663c5",
   "metadata": {},
   "outputs": [
    {
     "name": "stdout",
     "output_type": "stream",
     "text": [
      "#\n",
      "##\n",
      "###\n",
      "####\n"
     ]
    }
   ],
   "source": [
    "#printing patterns : (i+1)\n",
    "\n",
    "for i in range(4):\n",
    "    for j in range(i+1):\n",
    "        print(\"#\",end=\"\")\n",
    "    print()"
   ]
  },
  {
   "cell_type": "code",
   "execution_count": 4,
   "id": "79e68a69",
   "metadata": {},
   "outputs": [
    {
     "name": "stdout",
     "output_type": "stream",
     "text": [
      "####\n",
      "###\n",
      "##\n",
      "#\n"
     ]
    }
   ],
   "source": [
    "#printing patterns : (4-i)\n",
    "\n",
    "for i in range(4):\n",
    "    for j in range(4-i):\n",
    "        print(\"#\",end=\"\")\n",
    "    print()"
   ]
  },
  {
   "cell_type": "code",
   "execution_count": 5,
   "id": "f2dd8adf",
   "metadata": {},
   "outputs": [
    {
     "name": "stdout",
     "output_type": "stream",
     "text": [
      "Enter a number : 73\n",
      "It is a Prime number.\n"
     ]
    }
   ],
   "source": [
    "#prime number :\n",
    "\n",
    "num=int(input(\"Enter a number : \"))\n",
    "for i in range(2,num):\n",
    "    if num%i==0:\n",
    "        print(\"Not a prime number.\")\n",
    "        break\n",
    "    else:\n",
    "        print(\"It is a Prime number.\")\n",
    "        break"
   ]
  },
  {
   "cell_type": "code",
   "execution_count": 6,
   "id": "34c3749d",
   "metadata": {},
   "outputs": [
    {
     "name": "stdout",
     "output_type": "stream",
     "text": [
      "Hello NITC\n",
      "Hello World!!!\n",
      "9\n"
     ]
    }
   ],
   "source": [
    "#function :\n",
    "\n",
    "def tarun():\n",
    "    print(\"Hello NITC\")\n",
    "    print(\"Hello World!!!\")\n",
    "\n",
    "def add(x,y):\n",
    "    c=x+y\n",
    "    print(c)\n",
    "    \n",
    "tarun()\n",
    "add(5,4)"
   ]
  },
  {
   "cell_type": "code",
   "execution_count": 7,
   "id": "25a1f0c2",
   "metadata": {},
   "outputs": [
    {
     "name": "stdout",
     "output_type": "stream",
     "text": [
      "9\n"
     ]
    }
   ],
   "source": [
    "#function : with return\n",
    "\n",
    "def add(x,y):\n",
    "    c=x+y\n",
    "    return c\n",
    "\n",
    "result=add(5,4)\n",
    "print(result)"
   ]
  },
  {
   "cell_type": "code",
   "execution_count": 11,
   "id": "d3f36b87",
   "metadata": {},
   "outputs": [
    {
     "name": "stdout",
     "output_type": "stream",
     "text": [
      "Add of two x+y :  9\n",
      "Add of sub x+y :  1\n"
     ]
    }
   ],
   "source": [
    "# function :\n",
    "\n",
    "def add(x, y):\n",
    "    c = x + y\n",
    "    d = x - y\n",
    "    return c, d\n",
    "\n",
    "result1, result2 = add(5, 4)\n",
    "\n",
    "print(\"Add of two x+y : \", result1)\n",
    "print(\"Add of sub x+y : \", result2)"
   ]
  },
  {
   "cell_type": "markdown",
   "id": "d2d2b296",
   "metadata": {},
   "source": [
    "# Next day ===>>>"
   ]
  },
  {
   "cell_type": "code",
   "execution_count": 1,
   "id": "ad0ccd6c",
   "metadata": {},
   "outputs": [
    {
     "name": "stdout",
     "output_type": "stream",
     "text": [
      "x: 8\n",
      "a: 45\n"
     ]
    }
   ],
   "source": [
    "def update(x):\n",
    "    x=8\n",
    "    print(\"x:\",x)\n",
    "\n",
    "a=45\n",
    "update(a)\n",
    "print(\"a:\",a)"
   ]
  },
  {
   "cell_type": "code",
   "execution_count": 3,
   "id": "a3d44bbd",
   "metadata": {},
   "outputs": [
    {
     "name": "stdout",
     "output_type": "stream",
     "text": [
      "2691277875728\n",
      "id of a: 2691277875792\n",
      "id of x: 2691277875792\n",
      "x: 8\n",
      "a: 10\n"
     ]
    }
   ],
   "source": [
    "def update(x):\n",
    "    print(\"id of x:\",id(x))\n",
    "\n",
    "x=8\n",
    "print(id(x))\n",
    "\n",
    "\n",
    "a=10\n",
    "print(\"id of a:\",id(a))\n",
    "update(a)\n",
    "print(\"x:\",x)\n",
    "print(\"a:\",a)\n",
    "\n"
   ]
  },
  {
   "cell_type": "code",
   "execution_count": 4,
   "id": "d46484a7",
   "metadata": {},
   "outputs": [
    {
     "name": "stdout",
     "output_type": "stream",
     "text": [
      "lst:  [10, 20, 30]\n",
      "2691358772416\n",
      "2691358772416\n",
      "2691358772416\n",
      "x:   [10, 25, 30]\n",
      "lst: [10, 25, 30]\n"
     ]
    }
   ],
   "source": [
    "def update(lst):\n",
    "    print(id(lst))\n",
    "    lst[1]=25\n",
    "    print(id(lst))\n",
    "    print(\"x:  \",lst)\n",
    "\n",
    "lst=[10,20,30]\n",
    "print(\"lst: \",lst)\n",
    "print(id(lst))\n",
    "update(lst)\n",
    "print(\"lst:\",lst)"
   ]
  },
  {
   "cell_type": "markdown",
   "id": "ec7a4e4b",
   "metadata": {},
   "source": [
    "# NEXT DAY ===>>>"
   ]
  },
  {
   "cell_type": "code",
   "execution_count": 1,
   "id": "45e5b79c",
   "metadata": {},
   "outputs": [
    {
     "name": "stdout",
     "output_type": "stream",
     "text": [
      "11\n"
     ]
    }
   ],
   "source": [
    "#TYPE OF ARGUMENTS :\n",
    "\n",
    "def add(a,b):  #formal argument\n",
    "    c=a+b\n",
    "    print(c)\n",
    "\n",
    "add(5,6)       #Actual argument\n",
    "                     #===>>>  Actual arguments :\n",
    "                              #  1.position\n",
    "                              #  2.keyword\n",
    "                              #  3.Default\n",
    "                              #  4.varablelength"
   ]
  },
  {
   "cell_type": "code",
   "execution_count": 2,
   "id": "9023ff28",
   "metadata": {},
   "outputs": [
    {
     "name": "stdout",
     "output_type": "stream",
     "text": [
      "523\n"
     ]
    }
   ],
   "source": [
    "#for adding multiple values :\n",
    "\n",
    "def sum(a,*b):\n",
    "    c=a\n",
    "    for i in b:\n",
    "        c=c+i\n",
    "    print(c)\n",
    "    \n",
    "sum(5,6,34,78,400)"
   ]
  },
  {
   "cell_type": "markdown",
   "id": "8f7fd708",
   "metadata": {},
   "source": [
    "# Next day ===>>>"
   ]
  },
  {
   "cell_type": "code",
   "execution_count": 1,
   "id": "0b966290",
   "metadata": {},
   "outputs": [
    {
     "name": "stdout",
     "output_type": "stream",
     "text": [
      "tarun\n",
      "(28, 'raipur', 9109913300)\n"
     ]
    }
   ],
   "source": [
    "#key wordd variable length Arguments:\n",
    "\n",
    "def person(name,*data):\n",
    "    print(name)\n",
    "    print(data)\n",
    "\n",
    "person('tarun',28,'raipur',9109913300)"
   ]
  },
  {
   "cell_type": "code",
   "execution_count": 2,
   "id": "bb19c8b5",
   "metadata": {},
   "outputs": [
    {
     "name": "stdout",
     "output_type": "stream",
     "text": [
      "tarun\n",
      "{'age': 21, 'city': 'raipur', 'mob': '910991'}\n"
     ]
    }
   ],
   "source": [
    "#key wordd variable length Arguments:\n",
    "#code2\n",
    "\n",
    "def person(name,**data):\n",
    "    print(name)\n",
    "    print(data)\n",
    "\n",
    "person('tarun',age=21,city='raipur',mob='910991')"
   ]
  },
  {
   "cell_type": "code",
   "execution_count": 17,
   "id": "cff73263",
   "metadata": {},
   "outputs": [
    {
     "name": "stdout",
     "output_type": "stream",
     "text": [
      "tarun\n"
     ]
    },
    {
     "ename": "AttributeError",
     "evalue": "'dict' object has no attribute 'item'",
     "output_type": "error",
     "traceback": [
      "\u001b[1;31m---------------------------------------------------------------------------\u001b[0m",
      "\u001b[1;31mAttributeError\u001b[0m                            Traceback (most recent call last)",
      "\u001b[1;32mC:\\Users\\UNUKUR~1\\AppData\\Local\\Temp/ipykernel_7796/1555034614.py\u001b[0m in \u001b[0;36m<module>\u001b[1;34m\u001b[0m\n\u001b[0;32m      8\u001b[0m         \u001b[0mprint\u001b[0m\u001b[1;33m(\u001b[0m\u001b[0mi\u001b[0m\u001b[1;33m,\u001b[0m\u001b[0mj\u001b[0m\u001b[1;33m)\u001b[0m\u001b[1;33m\u001b[0m\u001b[1;33m\u001b[0m\u001b[0m\n\u001b[0;32m      9\u001b[0m \u001b[1;33m\u001b[0m\u001b[0m\n\u001b[1;32m---> 10\u001b[1;33m \u001b[0mperson\u001b[0m\u001b[1;33m(\u001b[0m\u001b[1;34m'tarun'\u001b[0m\u001b[1;33m,\u001b[0m\u001b[0mage\u001b[0m\u001b[1;33m=\u001b[0m\u001b[1;34m'21'\u001b[0m\u001b[1;33m,\u001b[0m\u001b[0mcity\u001b[0m\u001b[1;33m=\u001b[0m\u001b[1;34m'raipur'\u001b[0m\u001b[1;33m,\u001b[0m\u001b[0mmob\u001b[0m\u001b[1;33m=\u001b[0m\u001b[1;34m'910991'\u001b[0m\u001b[1;33m)\u001b[0m\u001b[1;33m\u001b[0m\u001b[1;33m\u001b[0m\u001b[0m\n\u001b[0m",
      "\u001b[1;32mC:\\Users\\UNUKUR~1\\AppData\\Local\\Temp/ipykernel_7796/1555034614.py\u001b[0m in \u001b[0;36mperson\u001b[1;34m(name, **data)\u001b[0m\n\u001b[0;32m      5\u001b[0m     \u001b[0mprint\u001b[0m\u001b[1;33m(\u001b[0m\u001b[0mname\u001b[0m\u001b[1;33m)\u001b[0m\u001b[1;33m\u001b[0m\u001b[1;33m\u001b[0m\u001b[0m\n\u001b[0;32m      6\u001b[0m \u001b[1;33m\u001b[0m\u001b[0m\n\u001b[1;32m----> 7\u001b[1;33m     \u001b[1;32mfor\u001b[0m \u001b[0mi\u001b[0m\u001b[1;33m,\u001b[0m\u001b[0mj\u001b[0m \u001b[1;32min\u001b[0m \u001b[0mdata\u001b[0m\u001b[1;33m.\u001b[0m\u001b[0mitem\u001b[0m\u001b[1;33m(\u001b[0m\u001b[1;33m)\u001b[0m\u001b[1;33m:\u001b[0m\u001b[1;33m\u001b[0m\u001b[1;33m\u001b[0m\u001b[0m\n\u001b[0m\u001b[0;32m      8\u001b[0m         \u001b[0mprint\u001b[0m\u001b[1;33m(\u001b[0m\u001b[0mi\u001b[0m\u001b[1;33m,\u001b[0m\u001b[0mj\u001b[0m\u001b[1;33m)\u001b[0m\u001b[1;33m\u001b[0m\u001b[1;33m\u001b[0m\u001b[0m\n\u001b[0;32m      9\u001b[0m \u001b[1;33m\u001b[0m\u001b[0m\n",
      "\u001b[1;31mAttributeError\u001b[0m: 'dict' object has no attribute 'item'"
     ]
    }
   ],
   "source": [
    "#key word variable length Arguments:\n",
    "#code3\n",
    "\n",
    "def person(name,**data):\n",
    "    print(name)\n",
    "\n",
    "    for i,j in data.item():\n",
    "        print(i,j)\n",
    "\n",
    "person('tarun',age='21',city='raipur',mob='910991')"
   ]
  },
  {
   "cell_type": "code",
   "execution_count": 4,
   "id": "690834cf",
   "metadata": {},
   "outputs": [
    {
     "name": "stdout",
     "output_type": "stream",
     "text": [
      "Inside value : 15\n",
      "Outside value : 10\n"
     ]
    }
   ],
   "source": [
    "#Global vs Local Variables :\n",
    "#code1:\n",
    "\n",
    "a=10\n",
    "def something():\n",
    "    a=15\n",
    "    print(\"Inside value :\",a)\n",
    "\n",
    "something()\n",
    "print(\"Outside value :\",a)"
   ]
  },
  {
   "cell_type": "code",
   "execution_count": 5,
   "id": "eb13497f",
   "metadata": {},
   "outputs": [
    {
     "name": "stdout",
     "output_type": "stream",
     "text": [
      "Inside value : 10\n",
      "Outside value : 10\n"
     ]
    }
   ],
   "source": [
    "#code2:\n",
    "\n",
    "a=10\n",
    "def something():\n",
    "    print(\"Inside value :\",a)\n",
    "\n",
    "something()\n",
    "print(\"Outside value :\",a)"
   ]
  },
  {
   "cell_type": "code",
   "execution_count": 6,
   "id": "31741df0",
   "metadata": {},
   "outputs": [
    {
     "name": "stdout",
     "output_type": "stream",
     "text": [
      "2219826113104\n",
      "2219826113104\n",
      "Inside value  : 9\n",
      "Outside value : 10\n"
     ]
    }
   ],
   "source": [
    "#code3:\n",
    "\n",
    "a=10\n",
    "print(id(a))\n",
    "\n",
    "def something():\n",
    "    a=9\n",
    "    x=globals()['a']\n",
    "    print(id(x))\n",
    "    print(\"Inside value  :\",a)\n",
    "\n",
    "something()\n",
    "print(\"Outside value :\",a)"
   ]
  },
  {
   "cell_type": "code",
   "execution_count": 7,
   "id": "8021df8a",
   "metadata": {},
   "outputs": [
    {
     "name": "stdout",
     "output_type": "stream",
     "text": [
      "2219826113104\n",
      "2219826113104\n",
      "Inside value  : 9\n",
      "Outside value : 15\n"
     ]
    }
   ],
   "source": [
    "#code4:\n",
    "\n",
    "a=10\n",
    "print(id(a))\n",
    "\n",
    "def something():\n",
    "    a=9\n",
    "    x=globals()['a']\n",
    "    print(id(x))\n",
    "    print(\"Inside value  :\",a)\n",
    "    globals()['a']=15\n",
    "\n",
    "something()\n",
    "print(\"Outside value :\",a)"
   ]
  },
  {
   "cell_type": "code",
   "execution_count": 8,
   "id": "50d00851",
   "metadata": {},
   "outputs": [
    {
     "name": "stdout",
     "output_type": "stream",
     "text": [
      "Even:6 and Odd:3\n"
     ]
    }
   ],
   "source": [
    "#Pass List to a function :\n",
    "\n",
    "def count(lst):\n",
    "    even=0\n",
    "    odd=0\n",
    "\n",
    "    for i in lst:\n",
    "        if i%2==0:\n",
    "            even=even+1\n",
    "        else:\n",
    "            odd=odd+1\n",
    "    return even,odd\n",
    "\n",
    "lst=[20,25,14,19,16,24,28,47,26]\n",
    "even,odd =count(lst)\n",
    "\n",
    "print(\"Even:{} and Odd:{}\".format(even,odd))"
   ]
  },
  {
   "cell_type": "code",
   "execution_count": 9,
   "id": "1a69e626",
   "metadata": {},
   "outputs": [
    {
     "name": "stdout",
     "output_type": "stream",
     "text": [
      "0\n",
      "1\n",
      "1\n",
      "2\n",
      "3\n",
      "5\n",
      "8\n",
      "13\n",
      "21\n",
      "34\n"
     ]
    }
   ],
   "source": [
    "#Fibonacci Sequence :\n",
    "\n",
    "def fib(n):\n",
    "    a=0\n",
    "    b=1\n",
    "\n",
    "    if n==1:\n",
    "        print(a)\n",
    "    else:\n",
    "        print(a)\n",
    "        print(b)\n",
    "\n",
    "        for i in range(2,n):\n",
    "            c=a+b\n",
    "            a=b\n",
    "            b=c\n",
    "            print(c)\n",
    "\n",
    "fib(10)"
   ]
  },
  {
   "cell_type": "code",
   "execution_count": 10,
   "id": "3fc3eced",
   "metadata": {},
   "outputs": [
    {
     "name": "stdout",
     "output_type": "stream",
     "text": [
      "Enter the x value : 5\n",
      "120\n"
     ]
    }
   ],
   "source": [
    "#factorial:\n",
    "\n",
    "def fact(n):\n",
    "    f=1\n",
    "    for i in range(1,n+1):\n",
    "        f=f*i\n",
    "    return f\n",
    "\n",
    "x=int(input(\"Enter the x value : \"))\n",
    "result = fact(x)\n",
    "print(result)"
   ]
  },
  {
   "cell_type": "code",
   "execution_count": 11,
   "id": "3d3be8a8",
   "metadata": {},
   "outputs": [
    {
     "name": "stdout",
     "output_type": "stream",
     "text": [
      "3000\n"
     ]
    }
   ],
   "source": [
    "#Recursion :\n",
    "# If a function is calling itself is called Recursion.\n",
    "\n",
    "import sys\n",
    "print(sys.getrecursionlimit())"
   ]
  },
  {
   "cell_type": "code",
   "execution_count": 6,
   "id": "2874795c",
   "metadata": {},
   "outputs": [
    {
     "ename": "TypeError",
     "evalue": "sys.setrecursionlimit() takes exactly one argument (0 given)",
     "output_type": "error",
     "traceback": [
      "\u001b[1;31m---------------------------------------------------------------------------\u001b[0m",
      "\u001b[1;31mTypeError\u001b[0m                                 Traceback (most recent call last)",
      "\u001b[1;32mC:\\Users\\UNUKUR~1\\AppData\\Local\\Temp/ipykernel_7796/1212639640.py\u001b[0m in \u001b[0;36m<module>\u001b[1;34m\u001b[0m\n\u001b[0;32m      2\u001b[0m \u001b[1;33m\u001b[0m\u001b[0m\n\u001b[0;32m      3\u001b[0m \u001b[1;32mimport\u001b[0m \u001b[0msys\u001b[0m\u001b[1;33m\u001b[0m\u001b[1;33m\u001b[0m\u001b[0m\n\u001b[1;32m----> 4\u001b[1;33m \u001b[0msys\u001b[0m\u001b[1;33m.\u001b[0m\u001b[0msetrecursionlimit\u001b[0m\u001b[1;33m(\u001b[0m\u001b[1;33m)\u001b[0m\u001b[1;33m\u001b[0m\u001b[1;33m\u001b[0m\u001b[0m\n\u001b[0m\u001b[0;32m      5\u001b[0m \u001b[0mprint\u001b[0m\u001b[1;33m(\u001b[0m\u001b[0msys\u001b[0m\u001b[1;33m.\u001b[0m\u001b[0mgetrecursionlimit\u001b[0m\u001b[1;33m(\u001b[0m\u001b[1;36m10\u001b[0m\u001b[1;33m)\u001b[0m\u001b[1;33m)\u001b[0m\u001b[1;33m\u001b[0m\u001b[1;33m\u001b[0m\u001b[0m\n\u001b[0;32m      6\u001b[0m \u001b[0mi\u001b[0m\u001b[1;33m=\u001b[0m\u001b[1;36m0\u001b[0m\u001b[1;33m\u001b[0m\u001b[1;33m\u001b[0m\u001b[0m\n",
      "\u001b[1;31mTypeError\u001b[0m: sys.setrecursionlimit() takes exactly one argument (0 given)"
     ]
    }
   ],
   "source": [
    "#code2:\n",
    "\n",
    "import sys\n",
    "sys.setrecursionlimit()\n",
    "print(sys.getrecursionlimit(10))\n",
    "i=0\n",
    "\n",
    "def greet():\n",
    "    global i\n",
    "    i=i+1\n",
    "    print(\"Hello\",i)\n",
    "    greet()\n",
    "    \n",
    "greet()"
   ]
  },
  {
   "cell_type": "code",
   "execution_count": 7,
   "id": "661ec882",
   "metadata": {},
   "outputs": [
    {
     "name": "stdout",
     "output_type": "stream",
     "text": [
      "120\n"
     ]
    }
   ],
   "source": [
    "#Factorial using Recursion :\n",
    "\n",
    "def fact(n):\n",
    "    if n==0:\n",
    "        return 1\n",
    "    return n*fact(n-1)\n",
    "\n",
    "result=fact(5)\n",
    "print(result)"
   ]
  },
  {
   "cell_type": "code",
   "execution_count": 18,
   "id": "2d68a1d7",
   "metadata": {},
   "outputs": [
    {
     "name": "stdout",
     "output_type": "stream",
     "text": [
      "11\n"
     ]
    }
   ],
   "source": [
    "#code1\n",
    "\n",
    "#Video (42) : Anonymous Functions / Lambda\n",
    "#Function without name is called Anonymous function.\n",
    "\n",
    "f=lambda a,b: a+b\n",
    "result=f(5,6)\n",
    "print(result)"
   ]
  },
  {
   "cell_type": "code",
   "execution_count": 19,
   "id": "81cd7fe3",
   "metadata": {},
   "outputs": [
    {
     "name": "stdout",
     "output_type": "stream",
     "text": [
      "625\n"
     ]
    }
   ],
   "source": [
    "#code2\n",
    "\n",
    "f=lambda a:a*a\n",
    "result=f(25)\n",
    "print(result)"
   ]
  },
  {
   "cell_type": "code",
   "execution_count": 20,
   "id": "0f33c1aa",
   "metadata": {},
   "outputs": [
    {
     "name": "stdout",
     "output_type": "stream",
     "text": [
      "[2, 6, 8, 4, 6, 2]\n"
     ]
    }
   ],
   "source": [
    "#code1\n",
    "#Video-43:   Filter Map Reduce :\n",
    "\n",
    "nums=[3,2,6,8,4,6,2,9]\n",
    "evens=list(filter(lambda n: n%2==0, nums))\n",
    "\n",
    "print(evens)"
   ]
  },
  {
   "cell_type": "code",
   "execution_count": 22,
   "id": "66fa0614",
   "metadata": {},
   "outputs": [
    {
     "name": "stdout",
     "output_type": "stream",
     "text": [
      "[2, 6, 8, 4, 6, 2]\n"
     ]
    }
   ],
   "source": [
    "#code2 - Or\n",
    "\n",
    "def is_even(n):\n",
    "    return n%2==0\n",
    "\n",
    "nums=[3,2,6,8,4,6,2,9]\n",
    "evens=list(filter(is_even,nums))\n",
    "print(evens)"
   ]
  },
  {
   "cell_type": "code",
   "execution_count": 12,
   "id": "5345dbd5",
   "metadata": {},
   "outputs": [
    {
     "name": "stdout",
     "output_type": "stream",
     "text": [
      "[4, 12, 16, 8, 12, 4]\n",
      "56\n"
     ]
    }
   ],
   "source": [
    "#code3 -- Video43\n",
    "\n",
    "from functools import reduce\n",
    "\n",
    "nums=[3,2,6,8,4,6,2,9]\n",
    "evens=list(filter(lambda n:n%2==0,nums))\n",
    "doubles=list(map(lambda n:n*2,evens))\n",
    "print(doubles)\n",
    "sum=reduce(lambda a,b:a+b, doubles)\n",
    "print(sum)"
   ]
  },
  {
   "cell_type": "markdown",
   "id": "0a5bd4e1",
   "metadata": {},
   "source": [
    "# NEXT DAY ===>>>"
   ]
  },
  {
   "cell_type": "markdown",
   "id": "7749a1cc",
   "metadata": {},
   "source": [
    "OOPS :\n",
    "        -Object\n",
    "        -Class\n",
    "        -Encapsulation\n",
    "        -Polymorphism"
   ]
  },
  {
   "cell_type": "code",
   "execution_count": 21,
   "id": "ac210e63",
   "metadata": {},
   "outputs": [
    {
     "name": "stdout",
     "output_type": "stream",
     "text": [
      "i5,16GB,1TB\n"
     ]
    }
   ],
   "source": [
    "class computer:\n",
    "    def config(self):\n",
    "        print(\"i5,16GB,1TB\")\n",
    "\n",
    "com1=computer()\n",
    "computer.config(com1)"
   ]
  },
  {
   "cell_type": "code",
   "execution_count": 20,
   "id": "e57f2387",
   "metadata": {},
   "outputs": [
    {
     "name": "stdout",
     "output_type": "stream",
     "text": [
      "<class 'int'>\n",
      "<class 'str'>\n",
      "<class '__main__.computer'>\n"
     ]
    }
   ],
   "source": [
    "class computer:\n",
    "    def config(self):\n",
    "        print(\"i5,16gb,1TB\")\n",
    "\n",
    "x=9\n",
    "print(type(x))\n",
    "\n",
    "a='8'\n",
    "print(type(a))\n",
    "\n",
    "com1=computer()\n",
    "print(type(com1))"
   ]
  },
  {
   "cell_type": "code",
   "execution_count": 22,
   "id": "a566a059",
   "metadata": {},
   "outputs": [
    {
     "name": "stdout",
     "output_type": "stream",
     "text": [
      "i5,16GB,1TB\n",
      "i5,16GB,1TB\n",
      "i5,16GB,1TB\n",
      "i5,16GB,1TB\n"
     ]
    }
   ],
   "source": [
    "class computer:\n",
    "    def config(self):\n",
    "        print(\"i5,16GB,1TB\")\n",
    "\n",
    "com1=computer()\n",
    "com2=com1\n",
    "\n",
    "computer.config(com1)\n",
    "computer.config(com2)\n",
    "\n",
    "com1.config()\n",
    "com2.config()"
   ]
  },
  {
   "cell_type": "code",
   "execution_count": 25,
   "id": "6d782f46",
   "metadata": {},
   "outputs": [
    {
     "name": "stdout",
     "output_type": "stream",
     "text": [
      "Config is i5 16\n",
      "Config is ryzen3 8\n"
     ]
    }
   ],
   "source": [
    "#video-50:\n",
    "# _init_ method :\n",
    "\n",
    "class computer:\n",
    "    def __init__(self,cpu,ram):\n",
    "        self.cpu=cpu\n",
    "        self.ram=ram\n",
    "    def config(self):\n",
    "        print(\"Config is\",self.cpu,self.ram)\n",
    "\n",
    "com1=computer(\"i5\",16)\n",
    "com2=computer(\"ryzen3\",8)\n",
    "\n",
    "com1.config()\n",
    "com2.config()"
   ]
  },
  {
   "cell_type": "code",
   "execution_count": 1,
   "id": "46e4534c",
   "metadata": {},
   "outputs": [
    {
     "name": "stdout",
     "output_type": "stream",
     "text": [
      "Config is  Tarun Asus\n",
      "Config is  Santhosh HP\n"
     ]
    }
   ],
   "source": [
    "class computer:\n",
    "    def __init__(self,cpu,ram):\n",
    "        self.cpu=cpu\n",
    "        self.ram=ram\n",
    "    def config(self):\n",
    "        print(\"Config is \",self.cpu,self.ram)\n",
    "\n",
    "com1=computer('Tarun','Asus')\n",
    "com2=computer('Santhosh','HP')\n",
    "\n",
    "com1.config()\n",
    "com2.config()"
   ]
  },
  {
   "cell_type": "markdown",
   "id": "3351964d",
   "metadata": {},
   "source": [
    "# NEXT DAY ===>>>"
   ]
  },
  {
   "cell_type": "code",
   "execution_count": 2,
   "id": "273a86fd",
   "metadata": {},
   "outputs": [
    {
     "name": "stdout",
     "output_type": "stream",
     "text": [
      "1499059022048\n",
      "1499059022480\n"
     ]
    }
   ],
   "source": [
    "class computer:\n",
    "    pass\n",
    "\n",
    "c1=computer()\n",
    "c2=computer()\n",
    "\n",
    "print(id(c1))\n",
    "print(id(c2))"
   ]
  },
  {
   "cell_type": "code",
   "execution_count": 4,
   "id": "54b4408b",
   "metadata": {},
   "outputs": [
    {
     "name": "stdout",
     "output_type": "stream",
     "text": [
      "Rashi 22\n",
      "Tarun 21\n"
     ]
    }
   ],
   "source": [
    "#compare(who is calling, whom to call)\n",
    "\n",
    "class computer:\n",
    "    def __init__(self):\n",
    "        self.name='Tarun'\n",
    "        self.age=21\n",
    "\n",
    "c1=computer()\n",
    "c2=computer()\n",
    "\n",
    "c1.name=\"Rashi\"\n",
    "c1.age=\"22\"\n",
    "\n",
    "print(c1.name,c1.age)\n",
    "print(c2.name,c2.age)"
   ]
  },
  {
   "cell_type": "code",
   "execution_count": 7,
   "id": "8625f295",
   "metadata": {},
   "outputs": [
    {
     "name": "stdout",
     "output_type": "stream",
     "text": [
      "They are different\n",
      "Tarun\n",
      "Tarun\n"
     ]
    }
   ],
   "source": [
    "#code3:\n",
    "\n",
    "class computer:\n",
    "    def __init__(self):\n",
    "        self.name='Tarun'\n",
    "        self.age=21\n",
    "    def compare(self,other):\n",
    "        if self.age==other.age:\n",
    "            return True\n",
    "        else:\n",
    "            return False\n",
    "\n",
    "c1=computer()\n",
    "c1.age=20\n",
    "\n",
    "c2=computer()\n",
    "\n",
    "if c1.compare(c2):\n",
    "    print(\"They are same\")\n",
    "else:\n",
    "    print(\"They are different\")\n",
    "\n",
    "print(c1.name)\n",
    "print(c2.name)"
   ]
  },
  {
   "cell_type": "raw",
   "id": "e5d5f5ce",
   "metadata": {},
   "source": [
    " Namespace : Namespace is an area where you create and store object/varable.\n",
    "              ->Class namespace\n",
    "              ->Object/Instance namespace"
   ]
  },
  {
   "cell_type": "code",
   "execution_count": 9,
   "id": "7fb86913",
   "metadata": {},
   "outputs": [
    {
     "name": "stdout",
     "output_type": "stream",
     "text": [
      "BMW 8 6\n",
      "BMW 10 6\n"
     ]
    }
   ],
   "source": [
    "#video52: Types of Variables.\n",
    "\n",
    "class car:\n",
    "    wheels=4\n",
    "\n",
    "    def __init__(self):\n",
    "        self.mile=10\n",
    "        self.comp='BMW'   #comp=company\n",
    "\n",
    "c1=car()\n",
    "c2=car()\n",
    "\n",
    "c1.mile=8\n",
    "car.wheels=6\n",
    "\n",
    "print(c1.comp,c1.mile,c1.wheels)\n",
    "print(c2.comp,c2.mile,c2.wheels)"
   ]
  },
  {
   "cell_type": "raw",
   "id": "a4532729",
   "metadata": {},
   "source": [
    "Types of methods\n",
    "        ->Instance class\n",
    "        ->Class Method\n",
    "        ->Static Method"
   ]
  },
  {
   "cell_type": "code",
   "execution_count": 11,
   "id": "b117453c",
   "metadata": {},
   "outputs": [
    {
     "name": "stdout",
     "output_type": "stream",
     "text": [
      "37.666666666666664\n"
     ]
    }
   ],
   "source": [
    "#video:53  Types of methods\n",
    "\n",
    "class student:\n",
    "    school='SriChaitanya'\n",
    "\n",
    "    def  __init__(self,m1,m2,m3):\n",
    "        self.m1=m1\n",
    "        self.m2=m2\n",
    "        self.m3=m3\n",
    "\n",
    "    def avg(self):\n",
    "        return (self.m1+self.m2+self.m3)/3\n",
    "\n",
    "s1=student(34,47,32)\n",
    "s2=student(89,32,12)\n",
    "\n",
    "print(s1.avg())\n"
   ]
  },
  {
   "cell_type": "code",
   "execution_count": 4,
   "id": "59a8b52d",
   "metadata": {},
   "outputs": [
    {
     "name": "stdout",
     "output_type": "stream",
     "text": [
      "37.666666666666664\n",
      "SriChaitanya\n",
      "This is student class...in abc\n"
     ]
    }
   ],
   "source": [
    "#video:53  Types of methods\n",
    "#code 2\n",
    "class student:\n",
    "    school='SriChaitanya'\n",
    "\n",
    "    def  __init__(self,m1,m2,m3):\n",
    "        self.m1=m1\n",
    "        self.m2=m2\n",
    "        self.m3=m3\n",
    "\n",
    "    def avg(self):\n",
    "        return (self.m1+self.m2+self.m3)/3\n",
    "\n",
    "    @classmethod\n",
    "    def getschool(cls):\n",
    "        return cls.school\n",
    "    @staticmethod\n",
    "    def info():\n",
    "        print(\"This is student class...in abc\")\n",
    "\n",
    "s1=student(34,47,32)\n",
    "s2=student(89,32,12)\n",
    "\n",
    "print(s1.avg())\n",
    "print(student.getschool())\n",
    "student.info()"
   ]
  },
  {
   "cell_type": "raw",
   "id": "c9d5823e",
   "metadata": {},
   "source": [
    "Video-54: Inner Class\n",
    "  Class inside the class is called Inner class."
   ]
  },
  {
   "cell_type": "code",
   "execution_count": 13,
   "id": "bd63e5de",
   "metadata": {},
   "outputs": [
    {
     "name": "stdout",
     "output_type": "stream",
     "text": [
      "Tarun 74\n",
      "Anvesh 12\n"
     ]
    }
   ],
   "source": [
    "#Video-54: Inner Class\n",
    "#code1\n",
    "\n",
    "class student:\n",
    "    def __init__(self,name,rollno):\n",
    "        self.name=name\n",
    "        self.rollno=rollno\n",
    "\n",
    "s1=student('Tarun',74)\n",
    "s2=student('Anvesh',12)\n",
    "\n",
    "print(s1.name,s1.rollno)\n",
    "print(s2.name,s2.rollno)\n",
    "\n",
    "\n"
   ]
  },
  {
   "cell_type": "code",
   "execution_count": 1,
   "id": "d571aecb",
   "metadata": {},
   "outputs": [
    {
     "name": "stdout",
     "output_type": "stream",
     "text": [
      "Tarun 74\n"
     ]
    }
   ],
   "source": [
    "#Video-54: Inner Class\n",
    "#code2\n",
    "\n",
    "class student:\n",
    "    def __init__(self,name,rollno):\n",
    "        self.name=name\n",
    "        self.rollno=rollno\n",
    "        self.lap=self.laptop()\n",
    "\n",
    "    def show(self):\n",
    "        print(self.name,self.rollno)\n",
    "        self.lap.show\n",
    "\n",
    "    class laptop:\n",
    "        def __init__(self):\n",
    "            self.brand='HP'\n",
    "            self.cpu='i5'\n",
    "            self.ram=8\n",
    "\n",
    "        def show(self):\n",
    "            print(self.brand,self.cpu,self.ram)\n",
    "\n",
    "\n",
    "\n",
    "s1=student('Tarun',74)\n",
    "s2=student('Jenny',12)\n",
    "\n",
    "s1.show()\n",
    "lap1=student.laptop()"
   ]
  },
  {
   "cell_type": "code",
   "execution_count": 2,
   "id": "971b0c1f",
   "metadata": {},
   "outputs": [
    {
     "name": "stdout",
     "output_type": "stream",
     "text": [
      "Feature 1 working\n",
      "Feature 2 working\n",
      "Feature 3 working\n",
      "Feature 4 working\n",
      "Feature 5 working\n"
     ]
    }
   ],
   "source": [
    "#Video-55: Inheritance :\n",
    "\n",
    "class A:\n",
    "    def feature1(self):\n",
    "        print(\"Feature 1 working\")\n",
    "\n",
    "    def feature2(self):\n",
    "        print(\"Feature 2 working\")\n",
    "\n",
    "class B:\n",
    "    def feature3(self):\n",
    "        print(\"Feature 3 working\")\n",
    "\n",
    "    def feature4(self):\n",
    "        print(\"Feature 4 working\")\n",
    "\n",
    "class C(A,B):\n",
    "    def feature5(self):\n",
    "        print(\"Feature 5 working\")\n",
    "c1 = C()\n",
    "\n",
    "c1.feature1()\n",
    "c1.feature2()\n",
    "c1.feature3()\n",
    "c1.feature4()\n",
    "c1.feature5()\n"
   ]
  },
  {
   "cell_type": "markdown",
   "id": "c3a13492",
   "metadata": {},
   "source": [
    "Vidoe-56"
   ]
  },
  {
   "cell_type": "raw",
   "id": "ebd1ad8e",
   "metadata": {},
   "source": [
    "Constructor in Inheritance :\n",
    "Note:\n",
    "1.Sub class can access all the features of super class.\n",
    "But,\n",
    "2.Sub class not access any features of sub class."
   ]
  },
  {
   "cell_type": "code",
   "execution_count": 1,
   "id": "876eaa36",
   "metadata": {},
   "outputs": [
    {
     "name": "stdout",
     "output_type": "stream",
     "text": [
      "in B Init\n"
     ]
    }
   ],
   "source": [
    "#\n",
    "\n",
    "class A:\n",
    "    def __init__(self):\n",
    "        print(\"in A Init\")\n",
    "    def feature1(self):\n",
    "        print(\"Feature 1 working\")\n",
    "    def feature2(self):\n",
    "        print(\"Feature 2 working\")\n",
    "\n",
    "class B(A):\n",
    "    def __init__(self):\n",
    "        print(\"in B Init\")\n",
    "    def feature1(self):\n",
    "        print(\"Feature 3 working\")\n",
    "    def feature2(self):\n",
    "        print(\"Feature 4 working\")\n",
    "        \n",
    "a1=B()"
   ]
  },
  {
   "cell_type": "markdown",
   "id": "01d129ae",
   "metadata": {},
   "source": [
    "# NEXT DAY===>>>"
   ]
  },
  {
   "cell_type": "code",
   "execution_count": null,
   "id": "e64853b4",
   "metadata": {},
   "outputs": [],
   "source": []
  }
 ],
 "metadata": {
  "kernelspec": {
   "display_name": "Python 3 (ipykernel)",
   "language": "python",
   "name": "python3"
  },
  "language_info": {
   "codemirror_mode": {
    "name": "ipython",
    "version": 3
   },
   "file_extension": ".py",
   "mimetype": "text/x-python",
   "name": "python",
   "nbconvert_exporter": "python",
   "pygments_lexer": "ipython3",
   "version": "3.9.12"
  }
 },
 "nbformat": 4,
 "nbformat_minor": 5
}
